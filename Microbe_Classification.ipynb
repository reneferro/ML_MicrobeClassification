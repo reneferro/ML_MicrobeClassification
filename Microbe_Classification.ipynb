{
  "cells": [
    {
      "cell_type": "markdown",
      "metadata": {
        "id": "FcoEbIErQ2Te"
      },
      "source": [
        "# Imports"
      ]
    },
    {
      "cell_type": "code",
      "execution_count": 1,
      "metadata": {
        "id": "rCLBhxROQ7n5"
      },
      "outputs": [],
      "source": [
        "import numpy as np\n",
        "import os\n",
        "import tensorflow as tf\n",
        "from PIL import Image\n",
        "from tensorflow import keras\n",
        "from keras.models import save_model,load_model\n",
        "from keras import layers\n",
        "from  matplotlib import pyplot as plt\n",
        "from sklearn.model_selection import train_test_split\n",
        "from keras.layers import Dense, Flatten, Activation, Dropout,Conv2D,MaxPooling2D\n",
        "\n",
        "%matplotlib inline"
      ]
    },
    {
      "cell_type": "markdown",
      "metadata": {
        "id": "koStXwZgs0lD"
      },
      "source": [
        "# Drive mount"
      ]
    },
    {
      "cell_type": "code",
      "execution_count": 2,
      "metadata": {
        "id": "i584Qe5Vs5uZ",
        "colab": {
          "base_uri": "https://localhost:8080/"
        },
        "outputId": "8446cf07-c3ed-427e-cf5e-9068a61bd803"
      },
      "outputs": [
        {
          "output_type": "stream",
          "name": "stdout",
          "text": [
            "Drive already mounted at /content/drive; to attempt to forcibly remount, call drive.mount(\"/content/drive\", force_remount=True).\n"
          ]
        }
      ],
      "source": [
        "from google.colab import drive\n",
        "drive.mount('/content/drive')"
      ]
    },
    {
      "cell_type": "markdown",
      "metadata": {
        "id": "rVgLAnXMqZ_w"
      },
      "source": [
        "# Data loading "
      ]
    },
    {
      "cell_type": "markdown",
      "source": [
        "Extracting dataset (zip file) into google colab."
      ],
      "metadata": {
        "id": "HHBTWxs1KNlB"
      }
    },
    {
      "cell_type": "code",
      "execution_count": 3,
      "metadata": {
        "id": "VAIM_VwFYz80",
        "colab": {
          "base_uri": "https://localhost:8080/"
        },
        "outputId": "a7d5fb60-ed56-4c88-881c-87db66bf9a21"
      },
      "outputs": [
        {
          "output_type": "stream",
          "name": "stdout",
          "text": [
            "/content\n"
          ]
        }
      ],
      "source": [
        "from zipfile import ZipFile\n",
        "%cd '/content'\n",
        "with ZipFile('/content/drive/MyDrive/ML_project/DIBaS_sliced2.zip','r') as zip:\n",
        "  zip.extractall()"
      ]
    },
    {
      "cell_type": "markdown",
      "source": [
        "Converting the images in the dataset to numpy array. \n",
        "x - images as numpy array\n",
        "y - images labels \n",
        "labels - python dictionary - {labels:class...}\n",
        "The labels are 0-11 integers matching the classes. \n",
        "\n"
      ],
      "metadata": {
        "id": "YPQ1ZejYKZcC"
      }
    },
    {
      "cell_type": "code",
      "execution_count": 4,
      "metadata": {
        "id": "9MW80qqOqo_N"
      },
      "outputs": [],
      "source": [
        "data_dir = \"/content/DIBaS_sliced\"\n",
        "classes = ['Acinetobacter.baumanii','Actinomyces','Bacteroides','Candida','Clostridium','Enterococcus','Escherichia','Listeria','Neisseria','Proteus','Pseudomonas','Staphylococcus']\n",
        "labels = {}\n",
        "y = []\n",
        "x = []\n",
        "i=0\n",
        "for c in classes:\n",
        "  path = os.path.join(data_dir,c)\n",
        "  for dir in os.listdir(path):\n",
        "    if(dir!='.DS_Store'):\n",
        "      y.append(i)\n",
        "      img = Image.open(os.path.join(path,dir))\n",
        "      x.append(np.asarray(img))\n",
        "  labels[i] = c\n",
        "  i+=1\n",
        "x = np.asarray(x)\n",
        "y = np.asarray(y)"
      ]
    },
    {
      "cell_type": "markdown",
      "source": [
        "Spliting x and y into train(70%) data and test(30%) data.\n",
        "Using sklearn.model_selection.train_test_split function."
      ],
      "metadata": {
        "id": "vSl3AE3LLlAB"
      }
    },
    {
      "cell_type": "code",
      "source": [
        "x_train, x_test, y_train, y_test = train_test_split(x,y,test_size=0.3,train_size=0.7)"
      ],
      "metadata": {
        "id": "jlyU0QkCL71N"
      },
      "execution_count": 5,
      "outputs": []
    },
    {
      "cell_type": "markdown",
      "source": [
        "Plot a sample of 10 randomly selected images from train dataset"
      ],
      "metadata": {
        "id": "bP2cupvzPMZ4"
      }
    },
    {
      "cell_type": "code",
      "source": [
        "indexes = np.random.randint(0, x_train.shape[0], size=10)\n",
        "images = x_train[indexes]\n",
        "lables = y_train[indexes]\n",
        "\n",
        "# plot 10 images\n",
        "plt.figure(figsize=(5,5))\n",
        "for i in range(len(indexes)):\n",
        "    plt.subplot(5, 5, i + 1)\n",
        "    image = images[i]\n",
        "    plt.imshow(image, cmap='gray')\n",
        "    plt.axis('off')\n",
        "    \n",
        "plt.show()\n",
        "plt.close('all')\n",
        "\n",
        "print(lables)"
      ],
      "metadata": {
        "id": "y5Jjhjd-O7_S",
        "colab": {
          "base_uri": "https://localhost:8080/",
          "height": 151
        },
        "outputId": "b9ec489c-00fc-4198-ac3d-0e6e3fa7395e"
      },
      "execution_count": 6,
      "outputs": [
        {
          "output_type": "display_data",
          "data": {
            "text/plain": [
              "<Figure size 360x360 with 10 Axes>"
            ],
            "image/png": "[encoded data removed]"
          },
          "metadata": {
            "needs_background": "light"
          }
        },
        {
          "output_type": "stream",
          "name": "stdout",
          "text": [
            "[ 2  2  8  4  8 11  7  2 10  7]\n"
          ]
        }
      ]
    },
    {
      "cell_type": "markdown",
      "metadata": {
        "id": "WmvchcXXOZ46"
      },
      "source": [
        "# Data Preparation  "
      ]
    },
    {
      "cell_type": "code",
      "execution_count": 6,
      "metadata": {
        "id": "dcqiIaj7OZNR"
      },
      "outputs": [],
      "source": [
        "# convert class vectors to binary class matrices\n",
        "y_train = keras.utils.to_categorical(y_train)\n",
        "y_test = keras.utils.to_categorical(y_test)"
      ]
    },
    {
      "cell_type": "markdown",
      "source": [
        "# Transfer learning - resnet50"
      ],
      "metadata": {
        "id": "nHucQJUBbLfn"
      }
    },
    {
      "cell_type": "markdown",
      "source": [
        "Loading frozen resnet50 model from keras without the final layers "
      ],
      "metadata": {
        "id": "y1Z5NZ3BdQ20"
      }
    },
    {
      "cell_type": "code",
      "execution_count": 8,
      "metadata": {
        "id": "dLpeO6XINgcU",
        "colab": {
          "base_uri": "https://localhost:8080/"
        },
        "outputId": "6eed42df-a8b2-4bba-dd91-e87624397124"
      },
      "outputs": [
        {
          "output_type": "stream",
          "name": "stdout",
          "text": [
            "Downloading data from https://storage.googleapis.com/tensorflow/keras-applications/resnet/resnet50_weights_tf_dim_ordering_tf_kernels_notop.h5\n",
            "94773248/94765736 [==============================] - 1s 0us/step\n",
            "94781440/94765736 [==============================] - 1s 0us/step\n"
          ]
        }
      ],
      "source": [
        "resnet_model = keras.applications.ResNet50(include_top=False,weights='imagenet',input_shape=(224,224,3))"
      ]
    },
    {
      "cell_type": "code",
      "source": [
        "resnet_model.trainable=False"
      ],
      "metadata": {
        "id": "QAwOnZP1igNE"
      },
      "execution_count": 9,
      "outputs": []
    },
    {
      "cell_type": "markdown",
      "source": [
        "Final layers to fit our classification"
      ],
      "metadata": {
        "id": "R3YkFiXodWY7"
      }
    },
    {
      "cell_type": "code",
      "source": [
        "model = keras.models.Sequential()\n",
        "model.add(resnet_model)\n",
        "model.add(Conv2D(32,(3,3),activation='relu',kernel_initializer='he_uniform',input_shape=(224,224,3)))\n",
        "model.add(MaxPooling2D())\n",
        "model.add(Flatten())\n",
        "model.add(Dropout(0.2))\n",
        "model.add(layers.BatchNormalization())\n",
        "model.add(Dropout(0.4))\n",
        "model.add(layers.BatchNormalization())\n",
        "model.add(Dense(32, activation='relu'))\n",
        "model.add(Dense(12, activation='softmax'))"
      ],
      "metadata": {
        "id": "rV9UOSPSL92i"
      },
      "execution_count": 10,
      "outputs": []
    },
    {
      "cell_type": "markdown",
      "source": [
        "Early stopping callback. stops the training if there's no improve while saving best weights."
      ],
      "metadata": {
        "id": "5fvHxkGtdwVk"
      }
    },
    {
      "cell_type": "code",
      "source": [
        "early_stopping = keras.callbacks.EarlyStopping(monitor='val_accuracy',patience=20,restore_best_weights=True)"
      ],
      "metadata": {
        "id": "e6s082se8lJr"
      },
      "execution_count": 11,
      "outputs": []
    },
    {
      "cell_type": "markdown",
      "source": [
        "Model training"
      ],
      "metadata": {
        "id": "tSFPZfv8eBKs"
      }
    },
    {
      "cell_type": "code",
      "source": [
        "batch_size = 32\n",
        "epochs = 50\n",
        "\n",
        "model.compile(loss=\"categorical_crossentropy\", optimizer=\"adam\", metrics=[\"accuracy\"])\n",
        "history = model.fit(x_train, y_train, batch_size=batch_size, epochs=epochs,validation_data = (x_test, y_test),callbacks=early_stopping)"
      ],
      "metadata": {
        "colab": {
          "base_uri": "https://localhost:8080/"
        },
        "id": "GCbScX_yd8wP",
        "outputId": "ff38fcca-3b37-46eb-f8da-c0957bc4bd99"
      },
      "execution_count": 12,
      "outputs": [
        {
          "output_type": "stream",
          "name": "stdout",
          "text": [
            "Epoch 1/50\n",
            "285/285 [==============================] - 109s 320ms/step - loss: 1.1411 - accuracy: 0.6173 - val_loss: 0.5706 - val_accuracy: 0.8021\n",
            "Epoch 2/50\n",
            "285/285 [==============================] - 86s 304ms/step - loss: 0.5310 - accuracy: 0.8154 - val_loss: 0.3930 - val_accuracy: 0.8614\n",
            "Epoch 3/50\n",
            "285/285 [==============================] - 86s 303ms/step - loss: 0.4296 - accuracy: 0.8505 - val_loss: 0.3840 - val_accuracy: 0.8609\n",
            "Epoch 4/50\n",
            "285/285 [==============================] - 86s 303ms/step - loss: 0.3932 - accuracy: 0.8635 - val_loss: 0.3108 - val_accuracy: 0.8950\n",
            "Epoch 5/50\n",
            "285/285 [==============================] - 86s 303ms/step - loss: 0.3352 - accuracy: 0.8827 - val_loss: 0.3536 - val_accuracy: 0.8696\n",
            "Epoch 6/50\n",
            "285/285 [==============================] - 86s 302ms/step - loss: 0.3002 - accuracy: 0.8947 - val_loss: 0.3071 - val_accuracy: 0.8907\n",
            "Epoch 7/50\n",
            "285/285 [==============================] - 86s 303ms/step - loss: 0.2663 - accuracy: 0.9079 - val_loss: 0.2494 - val_accuracy: 0.9107\n",
            "Epoch 8/50\n",
            "285/285 [==============================] - 86s 302ms/step - loss: 0.2566 - accuracy: 0.9098 - val_loss: 0.2588 - val_accuracy: 0.9073\n",
            "Epoch 9/50\n",
            "285/285 [==============================] - 86s 303ms/step - loss: 0.2308 - accuracy: 0.9159 - val_loss: 0.2737 - val_accuracy: 0.9068\n",
            "Epoch 10/50\n",
            "285/285 [==============================] - 86s 303ms/step - loss: 0.2241 - accuracy: 0.9196 - val_loss: 0.2988 - val_accuracy: 0.8955\n",
            "Epoch 11/50\n",
            "285/285 [==============================] - 86s 303ms/step - loss: 0.2022 - accuracy: 0.9291 - val_loss: 0.2973 - val_accuracy: 0.8935\n",
            "Epoch 12/50\n",
            "285/285 [==============================] - 86s 303ms/step - loss: 0.2054 - accuracy: 0.9250 - val_loss: 0.2585 - val_accuracy: 0.9048\n",
            "Epoch 13/50\n",
            "285/285 [==============================] - 86s 303ms/step - loss: 0.1878 - accuracy: 0.9368 - val_loss: 0.2504 - val_accuracy: 0.9107\n",
            "Epoch 14/50\n",
            "285/285 [==============================] - 86s 304ms/step - loss: 0.1517 - accuracy: 0.9461 - val_loss: 0.2530 - val_accuracy: 0.9163\n",
            "Epoch 15/50\n",
            "285/285 [==============================] - 86s 303ms/step - loss: 0.1554 - accuracy: 0.9442 - val_loss: 0.2750 - val_accuracy: 0.9127\n",
            "Epoch 16/50\n",
            "285/285 [==============================] - 87s 304ms/step - loss: 0.1722 - accuracy: 0.9392 - val_loss: 0.2714 - val_accuracy: 0.9220\n",
            "Epoch 17/50\n",
            "285/285 [==============================] - 86s 303ms/step - loss: 0.1524 - accuracy: 0.9463 - val_loss: 0.3590 - val_accuracy: 0.8899\n",
            "Epoch 18/50\n",
            "285/285 [==============================] - 86s 302ms/step - loss: 0.1482 - accuracy: 0.9482 - val_loss: 0.2887 - val_accuracy: 0.9158\n",
            "Epoch 19/50\n",
            "285/285 [==============================] - 86s 303ms/step - loss: 0.1370 - accuracy: 0.9531 - val_loss: 0.2923 - val_accuracy: 0.9068\n",
            "Epoch 20/50\n",
            "285/285 [==============================] - 86s 303ms/step - loss: 0.1321 - accuracy: 0.9548 - val_loss: 0.3190 - val_accuracy: 0.9166\n",
            "Epoch 21/50\n",
            "285/285 [==============================] - 86s 302ms/step - loss: 0.1287 - accuracy: 0.9550 - val_loss: 0.3901 - val_accuracy: 0.9084\n",
            "Epoch 22/50\n",
            "285/285 [==============================] - 86s 302ms/step - loss: 0.1055 - accuracy: 0.9616 - val_loss: 0.2736 - val_accuracy: 0.9204\n",
            "Epoch 23/50\n",
            "285/285 [==============================] - 86s 302ms/step - loss: 0.1228 - accuracy: 0.9540 - val_loss: 0.2846 - val_accuracy: 0.9068\n",
            "Epoch 24/50\n",
            "285/285 [==============================] - 86s 302ms/step - loss: 0.1275 - accuracy: 0.9552 - val_loss: 0.2887 - val_accuracy: 0.9168\n",
            "Epoch 25/50\n",
            "285/285 [==============================] - 86s 302ms/step - loss: 0.1149 - accuracy: 0.9592 - val_loss: 0.2794 - val_accuracy: 0.9148\n",
            "Epoch 26/50\n",
            "285/285 [==============================] - 86s 302ms/step - loss: 0.1050 - accuracy: 0.9634 - val_loss: 0.2648 - val_accuracy: 0.9235\n",
            "Epoch 27/50\n",
            "285/285 [==============================] - 86s 301ms/step - loss: 0.1141 - accuracy: 0.9593 - val_loss: 0.3349 - val_accuracy: 0.8984\n",
            "Epoch 28/50\n",
            "285/285 [==============================] - 86s 301ms/step - loss: 0.1122 - accuracy: 0.9617 - val_loss: 0.3372 - val_accuracy: 0.9081\n",
            "Epoch 29/50\n",
            "285/285 [==============================] - 86s 302ms/step - loss: 0.1059 - accuracy: 0.9617 - val_loss: 0.3398 - val_accuracy: 0.8991\n",
            "Epoch 30/50\n",
            "285/285 [==============================] - 86s 301ms/step - loss: 0.0946 - accuracy: 0.9669 - val_loss: 0.3760 - val_accuracy: 0.9002\n",
            "Epoch 31/50\n",
            "285/285 [==============================] - 86s 302ms/step - loss: 0.0827 - accuracy: 0.9711 - val_loss: 0.3071 - val_accuracy: 0.9245\n",
            "Epoch 32/50\n",
            "285/285 [==============================] - 86s 302ms/step - loss: 0.0898 - accuracy: 0.9695 - val_loss: 0.3677 - val_accuracy: 0.9007\n",
            "Epoch 33/50\n",
            "285/285 [==============================] - 86s 301ms/step - loss: 0.0896 - accuracy: 0.9681 - val_loss: 0.3746 - val_accuracy: 0.9114\n",
            "Epoch 34/50\n",
            "285/285 [==============================] - 86s 302ms/step - loss: 0.0889 - accuracy: 0.9693 - val_loss: 0.4432 - val_accuracy: 0.8932\n",
            "Epoch 35/50\n",
            "285/285 [==============================] - 86s 302ms/step - loss: 0.0994 - accuracy: 0.9656 - val_loss: 0.3874 - val_accuracy: 0.9071\n",
            "Epoch 36/50\n",
            "285/285 [==============================] - 86s 302ms/step - loss: 0.0773 - accuracy: 0.9716 - val_loss: 0.3688 - val_accuracy: 0.9143\n",
            "Epoch 37/50\n",
            "285/285 [==============================] - 86s 302ms/step - loss: 0.0863 - accuracy: 0.9715 - val_loss: 0.3620 - val_accuracy: 0.9130\n",
            "Epoch 38/50\n",
            "285/285 [==============================] - 86s 302ms/step - loss: 0.0960 - accuracy: 0.9660 - val_loss: 0.3865 - val_accuracy: 0.9150\n",
            "Epoch 39/50\n",
            "285/285 [==============================] - 86s 302ms/step - loss: 0.0915 - accuracy: 0.9686 - val_loss: 0.4042 - val_accuracy: 0.9112\n",
            "Epoch 40/50\n",
            "285/285 [==============================] - 86s 301ms/step - loss: 0.0913 - accuracy: 0.9706 - val_loss: 0.4047 - val_accuracy: 0.9158\n",
            "Epoch 41/50\n",
            "285/285 [==============================] - 86s 301ms/step - loss: 0.0790 - accuracy: 0.9722 - val_loss: 0.4266 - val_accuracy: 0.9189\n",
            "Epoch 42/50\n",
            "285/285 [==============================] - 102s 357ms/step - loss: 0.0980 - accuracy: 0.9656 - val_loss: 0.3909 - val_accuracy: 0.9050\n",
            "Epoch 43/50\n",
            "285/285 [==============================] - 86s 302ms/step - loss: 0.0781 - accuracy: 0.9724 - val_loss: 0.4216 - val_accuracy: 0.8853\n",
            "Epoch 44/50\n",
            "285/285 [==============================] - 86s 303ms/step - loss: 0.0937 - accuracy: 0.9686 - val_loss: 0.4135 - val_accuracy: 0.9045\n",
            "Epoch 45/50\n",
            "285/285 [==============================] - 86s 302ms/step - loss: 0.0914 - accuracy: 0.9685 - val_loss: 0.4371 - val_accuracy: 0.8994\n",
            "Epoch 46/50\n",
            "285/285 [==============================] - 86s 302ms/step - loss: 0.0797 - accuracy: 0.9710 - val_loss: 0.4929 - val_accuracy: 0.9055\n",
            "Epoch 47/50\n",
            "285/285 [==============================] - 86s 301ms/step - loss: 0.0825 - accuracy: 0.9688 - val_loss: 0.5617 - val_accuracy: 0.9091\n",
            "Epoch 48/50\n",
            "285/285 [==============================] - 86s 301ms/step - loss: 0.0831 - accuracy: 0.9710 - val_loss: 0.4828 - val_accuracy: 0.9109\n",
            "Epoch 49/50\n",
            "285/285 [==============================] - 86s 301ms/step - loss: 0.0794 - accuracy: 0.9738 - val_loss: 0.4616 - val_accuracy: 0.9112\n",
            "Epoch 50/50\n",
            "285/285 [==============================] - 86s 301ms/step - loss: 0.0869 - accuracy: 0.9696 - val_loss: 0.4793 - val_accuracy: 0.9084\n"
          ]
        }
      ]
    },
    {
      "cell_type": "markdown",
      "source": [
        "# Model Evaluation"
      ],
      "metadata": {
        "id": "h3d1xpRTeiad"
      }
    },
    {
      "cell_type": "code",
      "source": [
        "score = model.evaluate(x_test, y_test, verbose=0)\n",
        "print(\"%s: %.2f%%\" % (model.metrics_names[1], score[1]*100))"
      ],
      "metadata": {
        "colab": {
          "base_uri": "https://localhost:8080/"
        },
        "id": "JJEMmUJ7BeA9",
        "outputId": "7453a5a7-75a9-40b0-a093-48569990457e"
      },
      "execution_count": 14,
      "outputs": [
        {
          "output_type": "stream",
          "name": "stdout",
          "text": [
            "accuracy: 90.84%\n"
          ]
        }
      ]
    },
    {
      "cell_type": "code",
      "source": [
        "#accuracy\n",
        "plt.plot(history.history['accuracy'])\n",
        "plt.plot(history.history['val_accuracy'])\n",
        "plt.title('model accuracy')\n",
        "plt.ylabel('accuracy')\n",
        "plt.xlabel('epoch')\n",
        "plt.legend(['train', 'test'], loc='upper left')\n",
        "plt.show()\n",
        "# \"Loss\"\n",
        "plt.plot(history.history['loss'])\n",
        "plt.plot(history.history['val_loss'])\n",
        "plt.title('model loss')\n",
        "plt.ylabel('loss')\n",
        "plt.xlabel('epoch')\n",
        "plt.legend(['train', 'test'], loc='upper left')\n",
        "plt.show()"
      ],
      "metadata": {
        "id": "hhFbkzlR5_6q",
        "colab": {
          "base_uri": "https://localhost:8080/",
          "height": 573
        },
        "outputId": "8da9d4ca-477f-4443-9195-f50fb1484b34"
      },
      "execution_count": 13,
      "outputs": [
        {
          "output_type": "display_data",
          "data": {
            "text/plain": [
              "<Figure size 432x288 with 1 Axes>"
            ],
            "image/png": "[encoded data removed]"
          },
          "metadata": {
            "needs_background": "light"
          }
        },
        {
          "output_type": "display_data",
          "data": {
            "text/plain": [
              "<Figure size 432x288 with 1 Axes>"
            ],
            "image/png": "[encoded data removed]"
          },
          "metadata": {
            "needs_background": "light"
          }
        }
      ]
    },
    {
      "cell_type": "markdown",
      "source": [
        "# Converting to tf lite model"
      ],
      "metadata": {
        "id": "dQ0Z4SpjeUTH"
      }
    },
    {
      "cell_type": "code",
      "source": [
        "model.save(\"MC\")\n"
      ],
      "metadata": {
        "colab": {
          "base_uri": "https://localhost:8080/"
        },
        "id": "CMVQ-g0svt80",
        "outputId": "048a09bd-55ee-44f1-d043-d62b8fa109e1"
      },
      "execution_count": 22,
      "outputs": [
        {
          "output_type": "stream",
          "name": "stdout",
          "text": [
            "INFO:tensorflow:Assets written to: MC/assets\n"
          ]
        }
      ]
    },
    {
      "cell_type": "code",
      "source": [
        "converter = tf.lite.TFLiteConverter.from_keras_model(model)\n",
        "tfmodel = converter.convert()"
      ],
      "metadata": {
        "colab": {
          "base_uri": "https://localhost:8080/"
        },
        "id": "BrO5PPXfwIDa",
        "outputId": "faf991e2-88a3-427a-cc84-44f708fd7dac"
      },
      "execution_count": 26,
      "outputs": [
        {
          "output_type": "stream",
          "name": "stdout",
          "text": [
            "INFO:tensorflow:Assets written to: /tmp/tmpmgxlps2h/assets\n"
          ]
        },
        {
          "output_type": "stream",
          "name": "stderr",
          "text": [
            "INFO:tensorflow:Assets written to: /tmp/tmpmgxlps2h/assets\n",
            "WARNING:absl:Buffer deduplication procedure will be skipped when flatbuffer library is not properly loaded\n"
          ]
        }
      ]
    },
    {
      "cell_type": "code",
      "source": [
        "TF_LITE_MODEL_FILE_NAME = \"tf_lite_model.tflite\"\n",
        "model_name = TF_LITE_MODEL_FILE_NAME\n",
        "open(model_name,\"wb\").write(tfmodel)\n"
      ],
      "metadata": {
        "colab": {
          "base_uri": "https://localhost:8080/"
        },
        "id": "W-m4gevl2oQh",
        "outputId": "ba1b593d-1ffb-4184-c397-907421a655f4"
      },
      "execution_count": 27,
      "outputs": [
        {
          "output_type": "execute_result",
          "data": {
            "text/plain": [
              "96348644"
            ]
          },
          "metadata": {},
          "execution_count": 27
        }
      ]
    }
  ],
  "metadata": {
    "colab": {
      "name": "Microbe_Classification.ipynb",
      "provenance": [],
      "collapsed_sections": []
    },
    "kernelspec": {
      "display_name": "Python 3",
      "name": "python3"
    },
    "language_info": {
      "name": "python"
    },
    "accelerator": "GPU"
  },
  "nbformat": 4,
  "nbformat_minor": 0
}